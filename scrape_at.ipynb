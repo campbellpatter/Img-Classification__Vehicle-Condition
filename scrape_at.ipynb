{
 "cells": [
  {
   "cell_type": "code",
   "execution_count": 4,
   "metadata": {},
   "outputs": [],
   "source": [
    "from splinter import Browser\n",
    "from bs4 import BeautifulSoup\n",
    "import time\n",
    "import pandas as pd"
   ]
  },
  {
   "cell_type": "code",
   "execution_count": 5,
   "metadata": {},
   "outputs": [],
   "source": [
    "executable_path = {'executable_path': '/usr/local/bin/chromedriver'}\n",
    "browser = Browser('chrome', **executable_path, headless=False)"
   ]
  },
  {
   "cell_type": "code",
   "execution_count": 36,
   "metadata": {},
   "outputs": [],
   "source": [
    "url = 'https://www.atlantabestusedcars.com/view-inventory.aspx'\n",
    "browser.visit(url)\n",
    "time.sleep(2)\n",
    "html = browser.html\n",
    "soup = BeautifulSoup(html, 'html.parser')\n",
    "#print(soup.prettify())"
   ]
  },
  {
   "cell_type": "code",
   "execution_count": 37,
   "metadata": {},
   "outputs": [],
   "source": [
    "my_images = []\n",
    "img_urls = []\n",
    "my_vins = []\n",
    "my_anchors = []\n",
    "my_years = []\n",
    "my_makes = []\n",
    "my_models = []\n",
    "\n",
    "for i in range(17):\n",
    "    \n",
    "    imgs = soup.find_all('img', class_='responsive lazy center-block srp-vehicle-photo')\n",
    "    \n",
    "    for img in imgs:\n",
    "        try:\n",
    "            my_images.append(img['data-src'])\n",
    "        except: KeyError\n",
    "\n",
    "\n",
    "    for img in my_images:\n",
    "        img_urls.append(\"https://\" + img)\n",
    "\n",
    "    vins = soup.find_all('li', class_= 'vin hidden-sm')\n",
    "\n",
    "\n",
    "    for vin in vins:\n",
    "        vin_text = vin.text.strip()\n",
    "        my_vin = vin_text.split(\"#: \")[1]\n",
    "        my_vins.append(my_vin) \n",
    "\n",
    "    titles = soup.find_all('h2', class_= 'color nomargin ebiz-vdp-title')\n",
    "\n",
    "\n",
    "    for title in titles:\n",
    "        my_anchors.append(title.find('a').text.strip())\n",
    "\n",
    "\n",
    "\n",
    "    for car in my_anchors: \n",
    "        my_split = car.split(\" \")\n",
    "        my_years.append(my_split[0])\n",
    "        my_makes.append(my_split[1])\n",
    "        separator = ' '\n",
    "        my_models.append(separator.join(my_split[2:]))"
   ]
  },
  {
   "cell_type": "code",
   "execution_count": 38,
   "metadata": {},
   "outputs": [],
   "source": []
  },
  {
   "cell_type": "code",
   "execution_count": 42,
   "metadata": {},
   "outputs": [],
   "source": []
  },
  {
   "cell_type": "code",
   "execution_count": 47,
   "metadata": {},
   "outputs": [],
   "source": []
  },
  {
   "cell_type": "code",
   "execution_count": 49,
   "metadata": {},
   "outputs": [],
   "source": []
  },
  {
   "cell_type": "code",
   "execution_count": 56,
   "metadata": {},
   "outputs": [],
   "source": []
  },
  {
   "cell_type": "code",
   "execution_count": 70,
   "metadata": {},
   "outputs": [],
   "source": []
  },
  {
   "cell_type": "code",
   "execution_count": 71,
   "metadata": {},
   "outputs": [
    {
     "data": {
      "text/plain": [
       "['Acura',\n",
       " 'Acura',\n",
       " 'Acura',\n",
       " 'Acura',\n",
       " 'Acura',\n",
       " 'Acura',\n",
       " 'Acura',\n",
       " 'Acura',\n",
       " 'Acura',\n",
       " 'Acura',\n",
       " 'Acura',\n",
       " 'Acura',\n",
       " 'Acura',\n",
       " 'Acura',\n",
       " 'Acura',\n",
       " 'Acura',\n",
       " 'Acura',\n",
       " 'Acura',\n",
       " 'Acura',\n",
       " 'Acura',\n",
       " 'Audi',\n",
       " 'Audi',\n",
       " 'Audi',\n",
       " 'Audi',\n",
       " 'Audi',\n",
       " 'BMW',\n",
       " 'BMW',\n",
       " 'BMW',\n",
       " 'BMW',\n",
       " 'BMW',\n",
       " 'BMW',\n",
       " 'BMW',\n",
       " 'BMW',\n",
       " 'BMW',\n",
       " 'BMW',\n",
       " 'BMW',\n",
       " 'BMW',\n",
       " 'BMW',\n",
       " 'BMW',\n",
       " 'BMW',\n",
       " 'BMW',\n",
       " 'BMW',\n",
       " 'BMW',\n",
       " 'BMW',\n",
       " 'BMW',\n",
       " 'BMW',\n",
       " 'BMW',\n",
       " 'BMW',\n",
       " 'BMW',\n",
       " 'BMW']"
      ]
     },
     "execution_count": 71,
     "metadata": {},
     "output_type": "execute_result"
    }
   ],
   "source": [
    "my_makes"
   ]
  },
  {
   "cell_type": "code",
   "execution_count": null,
   "metadata": {},
   "outputs": [],
   "source": []
  }
 ],
 "metadata": {
  "kernelspec": {
   "display_name": "Python 3",
   "language": "python",
   "name": "python3"
  },
  "language_info": {
   "codemirror_mode": {
    "name": "ipython",
    "version": 3
   },
   "file_extension": ".py",
   "mimetype": "text/x-python",
   "name": "python",
   "nbconvert_exporter": "python",
   "pygments_lexer": "ipython3",
   "version": "3.7.3"
  }
 },
 "nbformat": 4,
 "nbformat_minor": 2
}
